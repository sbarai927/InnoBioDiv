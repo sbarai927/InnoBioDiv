{
 "cells": [
  {
   "cell_type": "markdown",
   "metadata": {},
   "source": [
    "#### InnoBioDiv\n",
    "\n",
    "\n",
    "# Farmbot Watering System Demo"
   ]
  },
  {
   "cell_type": "markdown",
   "metadata": {},
   "source": [
    "This notebook will walk you through the basic steps of the watering system of the Farmbot. Since it can actually be used to handle the farmbot, it is not possible to execute the code from your personal laptop."
   ]
  },
  {
   "cell_type": "code",
   "execution_count": 1,
   "metadata": {},
   "outputs": [
    {
     "ename": "ModuleNotFoundError",
     "evalue": "No module named 'demo_functions'",
     "output_type": "error",
     "traceback": [
      "\u001b[1;31m---------------------------------------------------------------------------\u001b[0m",
      "\u001b[1;31mModuleNotFoundError\u001b[0m                       Traceback (most recent call last)",
      "Input \u001b[1;32mIn [1]\u001b[0m, in \u001b[0;36m<cell line: 1>\u001b[1;34m()\u001b[0m\n\u001b[1;32m----> 1\u001b[0m \u001b[38;5;28;01mfrom\u001b[39;00m \u001b[38;5;21;01mdemo_functions\u001b[39;00m \u001b[38;5;28;01mimport\u001b[39;00m demo, Peripherals_WaterValve\n\u001b[0;32m      2\u001b[0m d \u001b[38;5;241m=\u001b[39m demo()\n",
      "\u001b[1;31mModuleNotFoundError\u001b[0m: No module named 'demo_functions'"
     ]
    }
   ],
   "source": [
    "from demo_functions import demo, Peripherals_WaterValve\n",
    "d = demo()"
   ]
  },
  {
   "cell_type": "code",
   "execution_count": 2,
   "metadata": {},
   "outputs": [],
   "source": [
    "import pandas as pd"
   ]
  },
  {
   "cell_type": "markdown",
   "metadata": {},
   "source": [
    "## Configure experiment\n",
    "### 1. Edit plant configuration\n",
    "\n",
    "The plant configuration is saved in a csv file in the same dictonary as this notebook. It contains the configuration for two plants named Demo1 and Demo2.\n",
    "* x_position y_position and z_position: specify the position of the plants on the Farmbot field relative to the origin. \n",
    "* Moisture sensor: specifies which moisture sensors should be used.\n",
    "* Desired soil moisture value: Value below which the plant is watered.(Higher values -> soil is dryer)\n",
    "* temperature sensors: not used in this example\n",
    "* action: specifies the action, in this case we want to water the plant depending on the soil moisture.\n",
    "* watering duration in ms: how long the plant should be watered, corresponds to a specific amount of water.\n",
    "* frequency of watering (not used with the option \"water depending on soil moisture\")"
   ]
  },
  {
   "cell_type": "markdown",
   "metadata": {},
   "source": [
    " <img  src=\"farmbot.jpg\" width = \"700\" >\n",
    " "
   ]
  },
  {
   "cell_type": "markdown",
   "metadata": {},
   "source": [
    "\n",
    "#### <div class=\"alert alert-success\"> **Task:** choose new x and y values for the position of the two plants and change the values of the csv-file accordingly. Later in the Lab you can test if you can find the right positions on the FarmBot field. </div>"
   ]
  },
  {
   "cell_type": "code",
   "execution_count": 13,
   "metadata": {},
   "outputs": [],
   "source": [
    "config = pd.read_csv('config.csv')"
   ]
  },
  {
   "cell_type": "code",
   "execution_count": 14,
   "metadata": {},
   "outputs": [
    {
     "data": {
      "text/html": [
       "<div>\n",
       "<style scoped>\n",
       "    .dataframe tbody tr th:only-of-type {\n",
       "        vertical-align: middle;\n",
       "    }\n",
       "\n",
       "    .dataframe tbody tr th {\n",
       "        vertical-align: top;\n",
       "    }\n",
       "\n",
       "    .dataframe thead th {\n",
       "        text-align: right;\n",
       "    }\n",
       "</style>\n",
       "<table border=\"1\" class=\"dataframe\">\n",
       "  <thead>\n",
       "    <tr style=\"text-align: right;\">\n",
       "      <th></th>\n",
       "      <th>id</th>\n",
       "      <th>plant_name</th>\n",
       "      <th>x_position</th>\n",
       "      <th>y_position</th>\n",
       "      <th>z_position</th>\n",
       "      <th>moisture_sensor_1</th>\n",
       "      <th>moisture_sensor_2</th>\n",
       "      <th>moisture_sensor_3</th>\n",
       "      <th>moisture_sensor_4</th>\n",
       "      <th>desired_soil_moisture_value</th>\n",
       "      <th>temperature_sensor_top_nr</th>\n",
       "      <th>temperature_sensor_bottom_nr</th>\n",
       "      <th>desired_soil_temperature_value</th>\n",
       "      <th>action</th>\n",
       "      <th>watering_duration_in_ms</th>\n",
       "      <th>last_time_watering</th>\n",
       "      <th>frequence_watering</th>\n",
       "    </tr>\n",
       "  </thead>\n",
       "  <tbody>\n",
       "    <tr>\n",
       "      <th>0</th>\n",
       "      <td>1</td>\n",
       "      <td>Demo1</td>\n",
       "      <td>1000</td>\n",
       "      <td>1000</td>\n",
       "      <td>50</td>\n",
       "      <td>0</td>\n",
       "      <td>0</td>\n",
       "      <td>1</td>\n",
       "      <td>1</td>\n",
       "      <td>1500</td>\n",
       "      <td>0</td>\n",
       "      <td>1</td>\n",
       "      <td>0</td>\n",
       "      <td>watering depending on soil moisture</td>\n",
       "      <td>300</td>\n",
       "      <td>0</td>\n",
       "      <td>4000</td>\n",
       "    </tr>\n",
       "    <tr>\n",
       "      <th>1</th>\n",
       "      <td>2</td>\n",
       "      <td>Demo2</td>\n",
       "      <td>500</td>\n",
       "      <td>500</td>\n",
       "      <td>50</td>\n",
       "      <td>0</td>\n",
       "      <td>0</td>\n",
       "      <td>1</td>\n",
       "      <td>1</td>\n",
       "      <td>1500</td>\n",
       "      <td>0</td>\n",
       "      <td>1</td>\n",
       "      <td>0</td>\n",
       "      <td>watering depending on soil moisture</td>\n",
       "      <td>300</td>\n",
       "      <td>0</td>\n",
       "      <td>4000</td>\n",
       "    </tr>\n",
       "  </tbody>\n",
       "</table>\n",
       "</div>"
      ],
      "text/plain": [
       "   id plant_name  x_position  y_position  z_position  moisture_sensor_1  \\\n",
       "0   1      Demo1        1000        1000          50                  0   \n",
       "1   2      Demo2         500         500          50                  0   \n",
       "\n",
       "   moisture_sensor_2  moisture_sensor_3  moisture_sensor_4  \\\n",
       "0                  0                  1                  1   \n",
       "1                  0                  1                  1   \n",
       "\n",
       "   desired_soil_moisture_value  temperature_sensor_top_nr  \\\n",
       "0                         1500                          0   \n",
       "1                         1500                          0   \n",
       "\n",
       "   temperature_sensor_bottom_nr  desired_soil_temperature_value  \\\n",
       "0                             1                               0   \n",
       "1                             1                               0   \n",
       "\n",
       "                                action  watering_duration_in_ms  \\\n",
       "0  watering depending on soil moisture                      300   \n",
       "1  watering depending on soil moisture                      300   \n",
       "\n",
       "   last_time_watering  frequence_watering  \n",
       "0                   0                4000  \n",
       "1                   0                4000  "
      ]
     },
     "execution_count": 14,
     "metadata": {},
     "output_type": "execute_result"
    }
   ],
   "source": [
    "config"
   ]
  },
  {
   "cell_type": "markdown",
   "metadata": {},
   "source": [
    "\n",
    "### 2. Import plant config into database"
   ]
  },
  {
   "cell_type": "markdown",
   "metadata": {},
   "source": [
    "Now you have to upload the changed csv-file to the database:"
   ]
  },
  {
   "cell_type": "code",
   "execution_count": 23,
   "metadata": {},
   "outputs": [],
   "source": [
    "d.export_csv('config.csv')"
   ]
  },
  {
   "cell_type": "markdown",
   "metadata": {},
   "source": [
    "### 2.1 Verify that the data has been transfered"
   ]
  },
  {
   "cell_type": "code",
   "execution_count": 24,
   "metadata": {},
   "outputs": [
    {
     "name": "stdout",
     "output_type": "stream",
     "text": [
      "[(1, 'Demo1', 1000.0, 1000.0, 50.0, 0, 0, 1, 1, 2500.0, 0, 1, 0.0, 'watering depending on soil moisture', 300, '0', 4000.0), (2, 'Demo2', 500.0, 500.0, 50.0, 0, 0, 1, 1, 1500.0, 0, 1, 0.0, 'watering depending on soil moisture', 300, '0', 4000.0)]\n"
     ]
    }
   ],
   "source": [
    "print(d.fetch_plant_conf())"
   ]
  },
  {
   "cell_type": "markdown",
   "metadata": {},
   "source": [
    "## 3. Watering Script\n",
    "\n",
    "> FCS = Farmbot Control System\n",
    "\n",
    "1. flush watering nozzle\n",
    "2. compare sensor values to the desired values in the configuration\n",
    "3. water plants accordingly to the plan"
   ]
  },
  {
   "cell_type": "markdown",
   "metadata": {},
   "source": [
    "### 3.1 Flush watering nozzle\n",
    "To get rid of air bubbles in the pump which compromize the accuracy of the watering process, the water nozzle needs to be flushed before watering the plants:"
   ]
  },
  {
   "cell_type": "code",
   "execution_count": 9,
   "metadata": {},
   "outputs": [
    {
     "name": "stderr",
     "output_type": "stream",
     "text": [
      "[FCS]21-Nov-22 15:46:24 --> INFO : Move to x: 50 y: 50 z: -150 at the same time.\n",
      "[FCS]21-Nov-22 15:46:26 --> INFO : Enable peripheral Water Valve permanently.\n",
      "[FCS]21-Nov-22 15:46:27 --> INFO : wait for 1000 milliseconds.\n",
      "[FCS]21-Nov-22 15:46:29 --> INFO : Disable peripheral Water Valve permanently.\n",
      "[FCS]21-Nov-22 15:46:30 --> INFO : wait for 2625 milliseconds.\n"
     ]
    }
   ],
   "source": [
    "d.bot.move_all_axis(*d.tube_clean_pos)\n",
    "d.bot.enable_peripheral_permanent(Peripherals_WaterValve())\n",
    "d.bot.wait_time(d.tube_clean_duration)\n",
    "d.bot.disable_peripheral_permanent(Peripherals_WaterValve())\n",
    "d.bot.wait_time(int(2**(((d.tube_clean_duration+100)/300)+7)+1000))  \n"
   ]
  },
  {
   "cell_type": "markdown",
   "metadata": {},
   "source": [
    "### 3.2 Fetch configuration from database"
   ]
  },
  {
   "cell_type": "code",
   "execution_count": 25,
   "metadata": {},
   "outputs": [
    {
     "name": "stdout",
     "output_type": "stream",
     "text": [
      "[(1, 'Demo1', 1000.0, 1000.0, 50.0, 0, 0, 1, 1, 2500.0, 0, 1, 0.0, 'watering depending on soil moisture', 300, '0', 4000.0), (2, 'Demo2', 500.0, 500.0, 50.0, 0, 0, 1, 1, 1500.0, 0, 1, 0.0, 'watering depending on soil moisture', 300, '0', 4000.0)]\n",
      "(1000.0, 1000.0, 50.0)\n",
      "300\n"
     ]
    }
   ],
   "source": [
    "conf = d.fetch_plant_conf()\n",
    "print(conf)\n",
    "print(conf[0][2:5])\n",
    "print(conf[0][14])"
   ]
  },
  {
   "cell_type": "markdown",
   "metadata": {},
   "source": [
    "### 3.3 Fetch sensor values from the data base for plant 1 and water accordingly"
   ]
  },
  {
   "cell_type": "markdown",
   "metadata": {},
   "source": [
    "Get the values of the moisture sensors from the data base. If there is more than one sensor involved the average of the measurement values is used. In this example there are no real sensors but example values are provided from the database."
   ]
  },
  {
   "cell_type": "code",
   "execution_count": 26,
   "metadata": {},
   "outputs": [
    {
     "name": "stdout",
     "output_type": "stream",
     "text": [
      "2200.85\n"
     ]
    }
   ],
   "source": [
    "vals = d.fetch_values(conf[0])\n",
    "mean = d.val_mean(vals)\n",
    "print(mean)\n",
    "\n",
    "if mean > conf[0][9]:\n",
    "    x,y,z = conf[0][2:5]\n",
    "    d.water_plant(x,y,z,conf[0][14],dry_run=False)"
   ]
  },
  {
   "cell_type": "markdown",
   "metadata": {},
   "source": [
    "### 3.4 Water plant 2"
   ]
  },
  {
   "cell_type": "code",
   "execution_count": 21,
   "metadata": {},
   "outputs": [
    {
     "name": "stderr",
     "output_type": "stream",
     "text": [
      "[FCS]21-Nov-22 15:56:17 --> INFO : Move to x: 500.0 y: 500.0 z: 50.0 at the same time.\n"
     ]
    },
    {
     "name": "stdout",
     "output_type": "stream",
     "text": [
      "2200.85\n"
     ]
    },
    {
     "name": "stderr",
     "output_type": "stream",
     "text": [
      "[FCS]21-Nov-22 15:56:36 --> INFO : Enable peripheral Water Valve permanently.\n",
      "[FCS]21-Nov-22 15:56:37 --> INFO : wait for 300 milliseconds.\n",
      "[FCS]21-Nov-22 15:56:37 --> INFO : Disable peripheral Water Valve permanently.\n",
      "[FCS]21-Nov-22 15:56:38 --> INFO : wait for 1322 milliseconds.\n"
     ]
    }
   ],
   "source": [
    "vals = d.fetch_values(conf[1])\n",
    "mean = d.val_mean(vals)\n",
    "print(mean)\n",
    "\n",
    "if mean > conf[1][9]:\n",
    "    x,y,z = conf[1][2:5]\n",
    "    d.water_plant(x,y,z,conf[1][14],dry_run=False)"
   ]
  },
  {
   "cell_type": "markdown",
   "metadata": {},
   "source": [
    "### <img  src=\"soil_moisture.jpg\" width = \"900\" >"
   ]
  },
  {
   "cell_type": "markdown",
   "metadata": {},
   "source": [
    "\n",
    "#### <div class=\"alert alert-success\"> **Task during the lab**: Check the mean value from the moisture sensors. What can you say about the soil moisture using the figure above? </div>"
   ]
  },
  {
   "cell_type": "markdown",
   "metadata": {},
   "source": [
    "#### <div class=\"alert alert-success\"> **Task:** Change the desired moisture value in the configuration csv so that the plants are no longer watered because the soil is already wet enough. </div>"
   ]
  },
  {
   "cell_type": "code",
   "execution_count": null,
   "metadata": {},
   "outputs": [],
   "source": []
  }
 ],
 "metadata": {
  "kernelspec": {
   "display_name": "Python 3 (ipykernel)",
   "language": "python",
   "name": "python3"
  },
  "language_info": {
   "codemirror_mode": {
    "name": "ipython",
    "version": 3
   },
   "file_extension": ".py",
   "mimetype": "text/x-python",
   "name": "python",
   "nbconvert_exporter": "python",
   "pygments_lexer": "ipython3",
   "version": "3.9.12"
  },
  "vscode": {
   "interpreter": {
    "hash": "52facc304a93123f974c6f38d64c1295c01d8d579a988437feff93aed8102a62"
   }
  }
 },
 "nbformat": 4,
 "nbformat_minor": 2
}
